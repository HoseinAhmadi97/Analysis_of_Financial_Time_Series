{
 "cells": [
  {
   "cell_type": "markdown",
   "metadata": {},
   "source": [
    "<p style=\"text-align:right\"><img  src=\"https://postmba.org/www/wp-content/uploads/2021/10/PostMBA-logo.png\" width=\"150\" alt=\"regression\"></p>\n",
    "\n",
    "\n",
    "<p style=\"text-align:center\"><img  src=\"utils/images/sarima_model.jpg\" width=\"600\" alt=\"regression\"></p>\n",
    "\n",
    "\n",
    "<p dir=rtl style=\"direction: rtl;text-align: center;line-height:200%;font-family:vazir;font-size:medium;align:left\">\n",
    "<font face=\"Arial\" size=3><b>\n",
    "Created by :\n",
    "Hosein Ahmadi</b>\n",
    "</font>\n",
    "</p>\n"
   ]
  },
  {
   "cell_type": "markdown",
   "metadata": {},
   "source": [
    "### 1- import packages"
   ]
  },
  {
   "cell_type": "code",
   "execution_count": 9,
   "metadata": {},
   "outputs": [],
   "source": [
    "import numpy as np\n",
    "import pmdarima\n",
    "import matplotlib.pyplot as plt\n",
    "import pandas as pd\n",
    "from statsmodels.tsa.arima.model import ARIMA\n",
    "from statsmodels.tsa.stattools import adfuller\n",
    "import datetime as datetime\n",
    "import pandas_datareader as pdr\n",
    "import time\n",
    "from scipy import signal\n",
    "import yfinance as yf\n",
    "import warnings\n",
    "warnings.filterwarnings('ignore')\n",
    "import plotly.express as px"
   ]
  },
  {
   "cell_type": "markdown",
   "metadata": {},
   "source": [
    "### 2- define functions and classes"
   ]
  },
  {
   "cell_type": "code",
   "execution_count": 10,
   "metadata": {},
   "outputs": [],
   "source": [
    "def get_opt_diff(pd_series):\n",
    "    '''\n",
    "        function fot best diff for get confidence about stationary of the series with adfuler test\n",
    "    '''\n",
    "    \n",
    "    adf_pvalue = adfuller(pd_series)[1]\n",
    "    opt_diff = 0\n",
    "    while True:\n",
    "        if adf_pvalue > 0.05:\n",
    "            opt_diff += 1\n",
    "            pd_series = (pd_series - pd_series.shift(1)).dropna()\n",
    "            adf_pvalue = adfuller(pd_series)[1]\n",
    "        else:\n",
    "            break\n",
    "    return opt_diff\n",
    "\n",
    "def get_model_mesage(model_num, p, opt_diff, q, P, D, Q, seasonality, model_aic, duration):\n",
    "    '''\n",
    "        a function for print message of the searchong on the models\n",
    "    '''\n",
    "    \n",
    "    msg = (f'Model No. {model_num} ARIMA ({p}, {opt_diff}, {q})({P}, {D}, {Q}) [{seasonality}], AIC = {model_aic}, time = {duration} sec')\n",
    "    print (msg)\n",
    "\n",
    "def calculate_best_sarima_model(series, pmax, qmax, Pmax, Qmax, seasonality):\n",
    "    '''\n",
    "        a function for searching on models of SARIMA model\n",
    "    '''\n",
    "    \n",
    "    model_count = 0\n",
    "    best_aic = np.inf\n",
    "    opt_diff = get_opt_diff(pd_series = series)\n",
    "    \n",
    "    seasonality_test = pmdarima.arima.OCSBTest(seasonality, lag_method='aic', max_lag=36)\n",
    "    D = seasonality_test.estimate_seasonal_differencing_term(series)\n",
    "    \n",
    "    for p in range(0, pmax+1):\n",
    "        for q in range(0, qmax+1):\n",
    "            for P in range(0, Pmax+1):\n",
    "                for Q in range(0, Qmax+1):\n",
    "                    t1 = time.time()\n",
    "                    model_count += 1\n",
    "                    arima_model = ARIMA(series,\n",
    "                                        exog = None,\n",
    "                                        order = (p, opt_diff, q),\n",
    "                                        seasonal_order=(P, 1, Q, seasonality),\n",
    "                                        enforce_stationarity=False,\n",
    "                                        enforce_invertibility=False,\n",
    "                                        trend=(0, 0, 1, 0))\n",
    "                    fitted_arima = arima_model.fit()\n",
    "                    model_aic = fitted_arima.aic\n",
    "                    if model_aic<best_aic:\n",
    "                        best_aic = model_aic\n",
    "                        optimal_p = P\n",
    "                        optimal_q = q\n",
    "                        optimal_P = P\n",
    "                        optimal_Q = Q\n",
    "                        \n",
    "                    t2 = time.time()\n",
    "                    \n",
    "                    get_model_mesage(model_count, p, opt_diff,\n",
    "                                     q, P, D, Q,\n",
    "                                     seasonality, round(model_aic, 1),\n",
    "                                     round(t2-t1, 1))\n",
    "                    \n",
    "    best_model_params = {'optimal_p': optimal_p, 'optimal_q': optimal_q,\n",
    "                  'optimal_P': optimal_P, 'optimal_Q': optimal_Q,\n",
    "                  'opt_diff': opt_diff}\n",
    "    \n",
    "    #print best model\n",
    "    best_model = ARIMA(series,\n",
    "                        exog = None,\n",
    "                        order = (optimal_p, opt_diff, optimal_q),\n",
    "                        seasonal_order=(optimal_P, 1, optimal_Q, seasonality),\n",
    "                        enforce_stationarity=False,\n",
    "                        enforce_invertibility=False,\n",
    "                        trend=(0, 0, 1, 0))\n",
    "    \n",
    "    fitted_model = best_model.fit()\n",
    "    return fitted_model, best_model_params"
   ]
  },
  {
   "cell_type": "code",
   "execution_count": 11,
   "metadata": {},
   "outputs": [],
   "source": [
    "class sarima_model:\n",
    "    '''\n",
    "        main class\n",
    "    '''\n",
    "    \n",
    "    def __init__(self, series, pmax, qmax, Pmax, Qmax, seasonality):\n",
    "        self.series = series\n",
    "        self.pamx = pmax\n",
    "        self.qmax = qmax\n",
    "        self.Pmax = Pmax\n",
    "        self.Qmax = Qmax\n",
    "        self.seasonality = seasonality\n",
    "        \n",
    "    def get_optimal_sarima_model(self):\n",
    "        self.best_model, self.best_params = calculate_best_sarima_model(self.series, self.pamx, self.qmax,\n",
    "                                                      self.Pmax, self.Qmax, self.seasonality)\n",
    "        \n",
    "        print('\\n ================= best model ====================')\n",
    "        print(self.best_params)\n",
    "        print(self.best_model.summary())\n",
    "        return self.best_model\n",
    "        \n",
    "    def forecast(self, steps, actual_values):\n",
    "        self.actual = actual_values\n",
    "        self.fsteps = steps\n",
    "        self.forecast = self.best_model.forecast(steps = steps, exog = None)\n",
    "        forecast_data = pd.DataFrame({'Forecast': self.forecast.values, 'Actual': self.actual.values})\n",
    "        forecast_data.index = actual_values.index\n",
    "        forecast_data['error'] = 100 * np.abs(((forecast_data['Forecast']/forecast_data['Actual']) - 1).round(3))\n",
    "        self.forecast_data = forecast_data\n",
    "        return forecast_data\n",
    "    \n",
    "    def plot_forecast(self):\n",
    "        plt.figure(figsize=(8, 6))\n",
    "        plt.plot(self.forecast_data['Actual'], label = 'Actual')\n",
    "        plt.plot(self.forecast_data['Forecast'], label = 'Forecast')\n",
    "        plt.title('Actual and Forecast values by best Sarima model')\n",
    "        plt.legend()\n",
    "        plt.show()"
   ]
  },
  {
   "cell_type": "markdown",
   "metadata": {},
   "source": [
    "## 3- modelling"
   ]
  },
  {
   "cell_type": "markdown",
   "metadata": {},
   "source": [
    "- GDP"
   ]
  },
  {
   "cell_type": "code",
   "execution_count": 12,
   "metadata": {},
   "outputs": [
    {
     "data": {
      "image/png": "[encoded data removed]",
      "text/plain": [
       "<Figure size 720x432 with 1 Axes>"
      ]
     },
     "metadata": {
      "needs_background": "light"
     },
     "output_type": "display_data"
    }
   ],
   "source": [
    "start = datetime.datetime(1900, 1, 1)\n",
    "end = datetime.datetime(2024, 1, 1)\n",
    "gdp_data = pdr.data.DataReader('GDP', data_source = 'fred', start = start, end = end)\n",
    "plt.figure(figsize=(10, 6))\n",
    "plt.plot(gdp_data)\n",
    "plt.show()"
   ]
  },
  {
   "cell_type": "code",
   "execution_count": 13,
   "metadata": {},
   "outputs": [],
   "source": [
    "pmax  = 1 #maximum lag on regular auto regressive\n",
    "qmax = 1 #maximum lag on regular ma\n",
    "Pmax = 1 #maximum lag on seasonalty auto regressive\n",
    "Qmax = 1 #maximum lag on seasonality moving average\n",
    "fsteps = 12 #steps for forecasting\n",
    "seasonality = 4"
   ]
  },
  {
   "cell_type": "code",
   "execution_count": 14,
   "metadata": {},
   "outputs": [
    {
     "name": "stdout",
     "output_type": "stream",
     "text": [
      "Model No. 1 ARIMA (0, 1, 0)(0, 1, 0) [4], AIC = 3781.2, time = 0.1 sec\n",
      "Model No. 2 ARIMA (0, 1, 0)(0, 1, 1) [4], AIC = 3715.7, time = 0.2 sec\n",
      "Model No. 3 ARIMA (0, 1, 0)(1, 1, 0) [4], AIC = 3741.9, time = 0.1 sec\n",
      "Model No. 4 ARIMA (0, 1, 0)(1, 1, 1) [4], AIC = 3717.5, time = 0.2 sec\n",
      "Model No. 5 ARIMA (0, 1, 1)(0, 1, 0) [4], AIC = 3753.3, time = 0.1 sec\n",
      "Model No. 6 ARIMA (0, 1, 1)(0, 1, 1) [4], AIC = 3676.5, time = 0.4 sec\n",
      "Model No. 7 ARIMA (0, 1, 1)(1, 1, 0) [4], AIC = 3725.9, time = 0.3 sec\n",
      "Model No. 8 ARIMA (0, 1, 1)(1, 1, 1) [4], AIC = 3677.7, time = 0.5 sec\n",
      "Model No. 9 ARIMA (1, 1, 0)(0, 1, 0) [4], AIC = 3766.2, time = 0.0 sec\n",
      "Model No. 10 ARIMA (1, 1, 0)(0, 1, 1) [4], AIC = 3687.2, time = 0.2 sec\n",
      "Model No. 11 ARIMA (1, 1, 0)(1, 1, 0) [4], AIC = 3714.0, time = 0.1 sec\n",
      "Model No. 12 ARIMA (1, 1, 0)(1, 1, 1) [4], AIC = 3689.0, time = 0.4 sec\n",
      "Model No. 13 ARIMA (1, 1, 1)(0, 1, 0) [4], AIC = 3731.0, time = 0.3 sec\n",
      "Model No. 14 ARIMA (1, 1, 1)(0, 1, 1) [4], AIC = 3677.0, time = 0.4 sec\n",
      "Model No. 15 ARIMA (1, 1, 1)(1, 1, 0) [4], AIC = 3715.9, time = 0.3 sec\n",
      "Model No. 16 ARIMA (1, 1, 1)(1, 1, 1) [4], AIC = 3678.8, time = 0.5 sec\n",
      "\n",
      " ================= best model ====================\n",
      "{'optimal_p': 0, 'optimal_q': 1, 'optimal_P': 0, 'optimal_Q': 1, 'opt_diff': 1}\n",
      "                                    SARIMAX Results                                    \n",
      "=======================================================================================\n",
      "Dep. Variable:                             GDP   No. Observations:                  295\n",
      "Model:             ARIMA(0, 1, 1)x(0, 1, 1, 4)   Log Likelihood               -1834.240\n",
      "Date:                         Sat, 25 Nov 2023   AIC                           3676.480\n",
      "Time:                                 02:19:17   BIC                           3691.076\n",
      "Sample:                             01-01-1947   HQIC                          3682.332\n",
      "                                  - 07-01-2020                                         \n",
      "Covariance Type:                           opg                                         \n",
      "==============================================================================\n",
      "                 coef    std err          z      P>|z|      [0.025      0.975]\n",
      "------------------------------------------------------------------------------\n",
      "x1             0.2975      0.154      1.936      0.053      -0.004       0.599\n",
      "ma.L1         -0.3395      0.033    -10.187      0.000      -0.405      -0.274\n",
      "ma.S.L4       -0.9345      0.136     -6.857      0.000      -1.202      -0.667\n",
      "sigma2       2.34e+04    805.911     29.032      0.000    2.18e+04     2.5e+04\n",
      "===================================================================================\n",
      "Ljung-Box (L1) (Q):                   0.05   Jarque-Bera (JB):            187126.34\n",
      "Prob(Q):                              0.82   Prob(JB):                         0.00\n",
      "Heteroskedasticity (H):             197.50   Skew:                            -8.67\n",
      "Prob(H) (two-sided):                  0.00   Kurtosis:                       127.55\n",
      "===================================================================================\n",
      "\n",
      "Warnings:\n",
      "[1] Covariance matrix calculated using the outer product of gradients (complex-step).\n"
     ]
    },
    {
     "data": {
      "text/plain": [
       "<statsmodels.tsa.arima.model.ARIMAResultsWrapper at 0x7f7fb5abde50>"
      ]
     },
     "execution_count": 14,
     "metadata": {},
     "output_type": "execute_result"
    }
   ],
   "source": [
    "model = sarima_model(gdp_data['GDP'].iloc[:-fsteps], pmax, qmax, Pmax, Qmax, seasonality)\n",
    "model.get_optimal_sarima_model()"
   ]
  },
  {
   "cell_type": "code",
   "execution_count": 15,
   "metadata": {},
   "outputs": [
    {
     "data": {
      "text/html": [
       "<div>\n",
       "<style scoped>\n",
       "    .dataframe tbody tr th:only-of-type {\n",
       "        vertical-align: middle;\n",
       "    }\n",
       "\n",
       "    .dataframe tbody tr th {\n",
       "        vertical-align: top;\n",
       "    }\n",
       "\n",
       "    .dataframe thead th {\n",
       "        text-align: right;\n",
       "    }\n",
       "</style>\n",
       "<table border=\"1\" class=\"dataframe\">\n",
       "  <thead>\n",
       "    <tr style=\"text-align: right;\">\n",
       "      <th></th>\n",
       "      <th>Forecast</th>\n",
       "      <th>Actual</th>\n",
       "      <th>error</th>\n",
       "    </tr>\n",
       "    <tr>\n",
       "      <th>DATE</th>\n",
       "      <th></th>\n",
       "      <th></th>\n",
       "      <th></th>\n",
       "    </tr>\n",
       "  </thead>\n",
       "  <tbody>\n",
       "    <tr>\n",
       "      <th>2020-10-01</th>\n",
       "      <td>21533.878186</td>\n",
       "      <td>22024.502</td>\n",
       "      <td>2.2</td>\n",
       "    </tr>\n",
       "    <tr>\n",
       "      <th>2021-01-01</th>\n",
       "      <td>21669.449284</td>\n",
       "      <td>22600.185</td>\n",
       "      <td>4.1</td>\n",
       "    </tr>\n",
       "    <tr>\n",
       "      <th>2021-04-01</th>\n",
       "      <td>21735.483953</td>\n",
       "      <td>23292.362</td>\n",
       "      <td>6.7</td>\n",
       "    </tr>\n",
       "    <tr>\n",
       "      <th>2021-07-01</th>\n",
       "      <td>22026.994564</td>\n",
       "      <td>23828.973</td>\n",
       "      <td>7.6</td>\n",
       "    </tr>\n",
       "    <tr>\n",
       "      <th>2021-10-01</th>\n",
       "      <td>22180.649686</td>\n",
       "      <td>24654.603</td>\n",
       "      <td>10.0</td>\n",
       "    </tr>\n",
       "    <tr>\n",
       "      <th>2022-01-01</th>\n",
       "      <td>22318.600672</td>\n",
       "      <td>25029.116</td>\n",
       "      <td>10.8</td>\n",
       "    </tr>\n",
       "    <tr>\n",
       "      <th>2022-04-01</th>\n",
       "      <td>22387.015228</td>\n",
       "      <td>25544.273</td>\n",
       "      <td>12.4</td>\n",
       "    </tr>\n",
       "    <tr>\n",
       "      <th>2022-07-01</th>\n",
       "      <td>22680.905726</td>\n",
       "      <td>25994.639</td>\n",
       "      <td>12.7</td>\n",
       "    </tr>\n",
       "    <tr>\n",
       "      <th>2022-10-01</th>\n",
       "      <td>22836.940735</td>\n",
       "      <td>26408.405</td>\n",
       "      <td>13.5</td>\n",
       "    </tr>\n",
       "    <tr>\n",
       "      <th>2023-01-01</th>\n",
       "      <td>22977.271608</td>\n",
       "      <td>26813.601</td>\n",
       "      <td>14.3</td>\n",
       "    </tr>\n",
       "    <tr>\n",
       "      <th>2023-04-01</th>\n",
       "      <td>23048.066051</td>\n",
       "      <td>27063.012</td>\n",
       "      <td>14.8</td>\n",
       "    </tr>\n",
       "    <tr>\n",
       "      <th>2023-07-01</th>\n",
       "      <td>23344.336436</td>\n",
       "      <td>27623.543</td>\n",
       "      <td>15.5</td>\n",
       "    </tr>\n",
       "  </tbody>\n",
       "</table>\n",
       "</div>"
      ],
      "text/plain": [
       "                Forecast     Actual  error\n",
       "DATE                                      \n",
       "2020-10-01  21533.878186  22024.502    2.2\n",
       "2021-01-01  21669.449284  22600.185    4.1\n",
       "2021-04-01  21735.483953  23292.362    6.7\n",
       "2021-07-01  22026.994564  23828.973    7.6\n",
       "2021-10-01  22180.649686  24654.603   10.0\n",
       "2022-01-01  22318.600672  25029.116   10.8\n",
       "2022-04-01  22387.015228  25544.273   12.4\n",
       "2022-07-01  22680.905726  25994.639   12.7\n",
       "2022-10-01  22836.940735  26408.405   13.5\n",
       "2023-01-01  22977.271608  26813.601   14.3\n",
       "2023-04-01  23048.066051  27063.012   14.8\n",
       "2023-07-01  23344.336436  27623.543   15.5"
      ]
     },
     "execution_count": 15,
     "metadata": {},
     "output_type": "execute_result"
    }
   ],
   "source": [
    "model.forecast(steps=fsteps, actual_values = gdp_data['GDP'].iloc[-fsteps:])"
   ]
  },
  {
   "cell_type": "code",
   "execution_count": 16,
   "metadata": {},
   "outputs": [
    {
     "data": {
      "image/png": "[encoded data removed]",
      "text/plain": [
       "<Figure size 576x432 with 1 Axes>"
      ]
     },
     "metadata": {
      "needs_background": "light"
     },
     "output_type": "display_data"
    }
   ],
   "source": [
    "model.plot_forecast()"
   ]
  },
  {
   "cell_type": "markdown",
   "metadata": {},
   "source": [
    "- Tesla Price"
   ]
  },
  {
   "cell_type": "code",
   "execution_count": 17,
   "metadata": {},
   "outputs": [
    {
     "data": {
      "image/png": "[encoded data removed]",
      "text/plain": [
       "<Figure size 720x432 with 1 Axes>"
      ]
     },
     "metadata": {
      "needs_background": "light"
     },
     "output_type": "display_data"
    }
   ],
   "source": [
    "symbol = 'TSLA'\n",
    "tesla_data = yf.Ticker(symbol).history(period=\"20y\")[['Close']]\n",
    "plt.figure(figsize=(10, 6))\n",
    "plt.plot(tesla_data)\n",
    "plt.show()"
   ]
  },
  {
   "cell_type": "code",
   "execution_count": 18,
   "metadata": {},
   "outputs": [
    {
     "name": "stdout",
     "output_type": "stream",
     "text": [
      "Model No. 1 ARIMA (0, 1, 0)(0, 0, 0) [2], AIC = 22131.6, time = 0.5 sec\n",
      "Model No. 2 ARIMA (0, 1, 0)(0, 0, 1) [2], AIC = 19867.1, time = 2.0 sec\n",
      "Model No. 3 ARIMA (0, 1, 0)(1, 0, 0) [2], AIC = 21048.7, time = 0.2 sec\n",
      "Model No. 4 ARIMA (0, 1, 0)(1, 0, 1) [2], AIC = 19868.9, time = 3.8 sec\n",
      "Model No. 5 ARIMA (0, 1, 1)(0, 0, 0) [2], AIC = 22022.6, time = 0.8 sec\n",
      "Model No. 6 ARIMA (0, 1, 1)(0, 0, 1) [2], AIC = 19861.2, time = 5.8 sec\n",
      "Model No. 7 ARIMA (0, 1, 1)(1, 0, 0) [2], AIC = 21049.4, time = 0.5 sec\n",
      "Model No. 8 ARIMA (0, 1, 1)(1, 0, 1) [2], AIC = 19862.5, time = 5.5 sec\n",
      "Model No. 9 ARIMA (1, 1, 0)(0, 0, 0) [2], AIC = 22133.0, time = 0.1 sec\n",
      "Model No. 10 ARIMA (1, 1, 0)(0, 0, 1) [2], AIC = 19866.4, time = 2.8 sec\n",
      "Model No. 11 ARIMA (1, 1, 0)(1, 0, 0) [2], AIC = 21044.5, time = 0.5 sec\n",
      "Model No. 12 ARIMA (1, 1, 0)(1, 0, 1) [2], AIC = 19867.7, time = 5.0 sec\n",
      "Model No. 13 ARIMA (1, 1, 1)(0, 0, 0) [2], AIC = 21263.1, time = 2.9 sec\n",
      "Model No. 14 ARIMA (1, 1, 1)(0, 0, 1) [2], AIC = 19863.1, time = 5.5 sec\n",
      "Model No. 15 ARIMA (1, 1, 1)(1, 0, 0) [2], AIC = 20519.3, time = 3.1 sec\n",
      "Model No. 16 ARIMA (1, 1, 1)(1, 0, 1) [2], AIC = 19864.5, time = 7.2 sec\n",
      "\n",
      " ================= best model ====================\n",
      "{'optimal_p': 0, 'optimal_q': 1, 'optimal_P': 0, 'optimal_Q': 1, 'opt_diff': 1}\n",
      "                                    SARIMAX Results                                    \n",
      "=======================================================================================\n",
      "Dep. Variable:                           Close   No. Observations:                 3364\n",
      "Model:             ARIMA(0, 1, 1)x(0, 1, 1, 2)   Log Likelihood               -9926.585\n",
      "Date:                         Sat, 25 Nov 2023   AIC                          19861.170\n",
      "Time:                                 02:20:14   BIC                          19885.646\n",
      "Sample:                                      0   HQIC                         19869.924\n",
      "                                        - 3364                                         \n",
      "Covariance Type:                           opg                                         \n",
      "==============================================================================\n",
      "                 coef    std err          z      P>|z|      [0.025      0.975]\n",
      "------------------------------------------------------------------------------\n",
      "x1          1.866e-05   2.99e-05      0.623      0.533      -4e-05    7.73e-05\n",
      "ma.L1         -0.0306      0.008     -3.759      0.000      -0.047      -0.015\n",
      "ma.S.L2       -1.0000      0.017    -57.683      0.000      -1.034      -0.966\n",
      "sigma2        21.5912      0.431     50.135      0.000      20.747      22.435\n",
      "===================================================================================\n",
      "Ljung-Box (L1) (Q):                   0.00   Jarque-Bera (JB):             55148.34\n",
      "Prob(Q):                              0.98   Prob(JB):                         0.00\n",
      "Heteroskedasticity (H):             972.37   Skew:                            -0.23\n",
      "Prob(H) (two-sided):                  0.00   Kurtosis:                        22.85\n",
      "===================================================================================\n",
      "\n",
      "Warnings:\n",
      "[1] Covariance matrix calculated using the outer product of gradients (complex-step).\n"
     ]
    },
    {
     "data": {
      "text/plain": [
       "<statsmodels.tsa.arima.model.ARIMAResultsWrapper at 0x7f7fb5ae74c0>"
      ]
     },
     "execution_count": 18,
     "metadata": {},
     "output_type": "execute_result"
    }
   ],
   "source": [
    "pmax  = 1 #maximum lag on regular auto regressive\n",
    "qmax = 1 #maximum lag on regular ma\n",
    "Pmax = 1 #maximum lag on seasonalty auto regressive\n",
    "Qmax = 1 #maximum lag on seasonality moving average\n",
    "fsteps = 12 #steps for forecasting\n",
    "seasonality = 2\n",
    "\n",
    "model = sarima_model(tesla_data['Close'].iloc[:-fsteps], pmax, qmax, Pmax, Qmax, seasonality)\n",
    "model.get_optimal_sarima_model()"
   ]
  },
  {
   "cell_type": "code",
   "execution_count": 19,
   "metadata": {},
   "outputs": [
    {
     "data": {
      "text/html": [
       "<div>\n",
       "<style scoped>\n",
       "    .dataframe tbody tr th:only-of-type {\n",
       "        vertical-align: middle;\n",
       "    }\n",
       "\n",
       "    .dataframe tbody tr th {\n",
       "        vertical-align: top;\n",
       "    }\n",
       "\n",
       "    .dataframe thead th {\n",
       "        text-align: right;\n",
       "    }\n",
       "</style>\n",
       "<table border=\"1\" class=\"dataframe\">\n",
       "  <thead>\n",
       "    <tr style=\"text-align: right;\">\n",
       "      <th></th>\n",
       "      <th>Forecast</th>\n",
       "      <th>Actual</th>\n",
       "      <th>error</th>\n",
       "    </tr>\n",
       "    <tr>\n",
       "      <th>Date</th>\n",
       "      <th></th>\n",
       "      <th></th>\n",
       "      <th></th>\n",
       "    </tr>\n",
       "  </thead>\n",
       "  <tbody>\n",
       "    <tr>\n",
       "      <th>2023-11-08 00:00:00-05:00</th>\n",
       "      <td>222.142495</td>\n",
       "      <td>222.110001</td>\n",
       "      <td>0.0</td>\n",
       "    </tr>\n",
       "    <tr>\n",
       "      <th>2023-11-09 00:00:00-05:00</th>\n",
       "      <td>222.354811</td>\n",
       "      <td>209.979996</td>\n",
       "      <td>5.9</td>\n",
       "    </tr>\n",
       "    <tr>\n",
       "      <th>2023-11-10 00:00:00-05:00</th>\n",
       "      <td>222.399265</td>\n",
       "      <td>214.649994</td>\n",
       "      <td>3.6</td>\n",
       "    </tr>\n",
       "    <tr>\n",
       "      <th>2023-11-13 00:00:00-05:00</th>\n",
       "      <td>222.611655</td>\n",
       "      <td>223.710007</td>\n",
       "      <td>0.5</td>\n",
       "    </tr>\n",
       "    <tr>\n",
       "      <th>2023-11-14 00:00:00-05:00</th>\n",
       "      <td>222.656184</td>\n",
       "      <td>237.410004</td>\n",
       "      <td>6.2</td>\n",
       "    </tr>\n",
       "    <tr>\n",
       "      <th>2023-11-15 00:00:00-05:00</th>\n",
       "      <td>222.868649</td>\n",
       "      <td>242.839996</td>\n",
       "      <td>8.2</td>\n",
       "    </tr>\n",
       "    <tr>\n",
       "      <th>2023-11-16 00:00:00-05:00</th>\n",
       "      <td>222.913252</td>\n",
       "      <td>233.589996</td>\n",
       "      <td>4.6</td>\n",
       "    </tr>\n",
       "    <tr>\n",
       "      <th>2023-11-17 00:00:00-05:00</th>\n",
       "      <td>223.125792</td>\n",
       "      <td>234.300003</td>\n",
       "      <td>4.8</td>\n",
       "    </tr>\n",
       "    <tr>\n",
       "      <th>2023-11-20 00:00:00-05:00</th>\n",
       "      <td>223.170470</td>\n",
       "      <td>235.600006</td>\n",
       "      <td>5.3</td>\n",
       "    </tr>\n",
       "    <tr>\n",
       "      <th>2023-11-21 00:00:00-05:00</th>\n",
       "      <td>223.383085</td>\n",
       "      <td>241.199997</td>\n",
       "      <td>7.4</td>\n",
       "    </tr>\n",
       "    <tr>\n",
       "      <th>2023-11-22 00:00:00-05:00</th>\n",
       "      <td>223.427837</td>\n",
       "      <td>234.210007</td>\n",
       "      <td>4.6</td>\n",
       "    </tr>\n",
       "    <tr>\n",
       "      <th>2023-11-24 00:00:00-05:00</th>\n",
       "      <td>223.640526</td>\n",
       "      <td>235.449997</td>\n",
       "      <td>5.0</td>\n",
       "    </tr>\n",
       "  </tbody>\n",
       "</table>\n",
       "</div>"
      ],
      "text/plain": [
       "                             Forecast      Actual  error\n",
       "Date                                                    \n",
       "2023-11-08 00:00:00-05:00  222.142495  222.110001    0.0\n",
       "2023-11-09 00:00:00-05:00  222.354811  209.979996    5.9\n",
       "2023-11-10 00:00:00-05:00  222.399265  214.649994    3.6\n",
       "2023-11-13 00:00:00-05:00  222.611655  223.710007    0.5\n",
       "2023-11-14 00:00:00-05:00  222.656184  237.410004    6.2\n",
       "2023-11-15 00:00:00-05:00  222.868649  242.839996    8.2\n",
       "2023-11-16 00:00:00-05:00  222.913252  233.589996    4.6\n",
       "2023-11-17 00:00:00-05:00  223.125792  234.300003    4.8\n",
       "2023-11-20 00:00:00-05:00  223.170470  235.600006    5.3\n",
       "2023-11-21 00:00:00-05:00  223.383085  241.199997    7.4\n",
       "2023-11-22 00:00:00-05:00  223.427837  234.210007    4.6\n",
       "2023-11-24 00:00:00-05:00  223.640526  235.449997    5.0"
      ]
     },
     "execution_count": 19,
     "metadata": {},
     "output_type": "execute_result"
    }
   ],
   "source": [
    "model.forecast(steps=fsteps, actual_values = tesla_data['Close'].iloc[-fsteps:])"
   ]
  },
  {
   "cell_type": "code",
   "execution_count": 20,
   "metadata": {},
   "outputs": [
    {
     "data": {
      "image/png": "[encoded data removed]",
      "text/plain": [
       "<Figure size 576x432 with 1 Axes>"
      ]
     },
     "metadata": {
      "needs_background": "light"
     },
     "output_type": "display_data"
    }
   ],
   "source": [
    "model.plot_forecast()"
   ]
  }
 ],
 "metadata": {
  "kernelspec": {
   "display_name": "Python 3",
   "language": "python",
   "name": "python3"
  },
  "language_info": {
   "codemirror_mode": {
    "name": "ipython",
    "version": 3
   },
   "file_extension": ".py",
   "mimetype": "text/x-python",
   "name": "python",
   "nbconvert_exporter": "python",
   "pygments_lexer": "ipython3",
   "version": "3.9.12"
  }
 },
 "nbformat": 4,
 "nbformat_minor": 2
}
