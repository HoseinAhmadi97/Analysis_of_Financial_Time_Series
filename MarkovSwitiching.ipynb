{
 "cells": [
  {
   "cell_type": "code",
   "execution_count": null,
   "metadata": {},
   "outputs": [],
   "source": [
    "import matplotlib.pyplot as plt\n",
    "import statsmodels.api as sm \n",
    "def MSForecast(ret, fsteps):\n",
    "    model = sm .tsa.MarkovAutoregression(ret, k_regimes=2, order=3, switching_ar=True)\n",
    "    results = model.fit()\n",
    "    print(results.summary())\n",
    "    plt.figure()\n",
    "    plt.plot(results.fil)\n",
    "    retf = results.predict(fsteps)\n",
    "    return retf"
   ]
  }
 ],
 "metadata": {
  "language_info": {
   "name": "python"
  }
 },
 "nbformat": 4,
 "nbformat_minor": 2
}
